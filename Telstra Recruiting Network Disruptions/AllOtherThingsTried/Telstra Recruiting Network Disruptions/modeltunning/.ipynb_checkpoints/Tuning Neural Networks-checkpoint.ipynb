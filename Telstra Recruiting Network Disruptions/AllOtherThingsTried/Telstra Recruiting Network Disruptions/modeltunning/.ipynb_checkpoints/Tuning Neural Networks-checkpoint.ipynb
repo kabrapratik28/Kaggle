{
 "cells": [
  {
   "cell_type": "markdown",
   "metadata": {
    "collapsed": true
   },
   "source": [
    "# Fine Tuning a Lasagne Neural Network"
   ]
  },
  {
   "cell_type": "code",
   "execution_count": 1,
   "metadata": {
    "collapsed": true
   },
   "outputs": [],
   "source": [
    "%matplotlib inline\n",
    "import matplotlib\n",
    "import pandas as pd\n",
    "import numpy as np\n",
    "from sklearn.preprocessing import LabelEncoder\n",
    "from sklearn.cross_validation import train_test_split\n",
    "from sklearn.ensemble import RandomForestClassifier \n",
    "from sklearn.metrics import log_loss\n",
    "from nolearn.lasagne import NeuralNet\n",
    "from lasagne.layers import DenseLayer\n",
    "from lasagne.layers import InputLayer\n",
    "from lasagne.layers import DropoutLayer\n",
    "from lasagne.updates import adagrad\n",
    "from lasagne.nonlinearities import softmax"
   ]
  },
  {
   "cell_type": "markdown",
   "metadata": {},
   "source": [
    "# Import Data (Kaggle OTTO challenge)"
   ]
  },
  {
   "cell_type": "code",
   "execution_count": 2,
   "metadata": {
    "collapsed": false
   },
   "outputs": [
    {
     "name": "stdout",
     "output_type": "stream",
     "text": [
      "reading csv's\n"
     ]
    }
   ],
   "source": [
    "import pandas as pd\n",
    "import numpy as np\n",
    "from sklearn.cross_validation import train_test_split, KFold, StratifiedKFold\n",
    "from sklearn.metrics import accuracy_score\n",
    "from sklearn.grid_search import GridSearchCV\n",
    "\n",
    "#our model and imports\n",
    "from models import xgboostmodel\n",
    "from models import randomforestclassifier\n",
    "from models import KNN\n",
    "\n",
    "print \"reading csv's\"\n",
    "event_type = pd.read_csv('data/event_type.csv')\n",
    "log_feature = pd.read_csv('data/log_feature.csv')\n",
    "resource_type = pd.read_csv('data/resource_type.csv')\n",
    "severity_type = pd.read_csv('data/severity_type.csv')\n",
    "\n",
    "#===================== train and test related ===============================\n",
    "train = pd.read_csv('data/train.csv')\n",
    "test = pd.read_csv('data/test.csv')\n",
    "train['location'] =  train['location'].map(lambda x: int(x.strip('location ')))\n",
    "test['location'] =  test['location'].map(lambda x: int(x.strip('location ')))\n",
    "\n",
    "#===================== severity related ===============================\n",
    "#severity type only\n",
    "severity_type['severity_type_only'] =  severity_type['severity_type'].map(lambda x: int(x.strip('severity_type ')))\n",
    "#drop string severity column\n",
    "severity_type.drop([\"severity_type\"],axis=1,inplace =True)\n",
    "\n",
    "#inner join train,test and severity as 1 as 1 mapping.\n",
    "dataset_train = pd.merge(train, severity_type, on =['id'])\n",
    "dataset_test = pd.merge(test, severity_type, on =['id'])\n",
    "\n",
    "#===================== event type related ===============================\n",
    "#>>>>>>>>   derived\n",
    "#>>>>>>>>   take total number of events\n",
    "event_type['event_type_count'] = 1\n",
    "total_no_of_events = event_type.groupby('id').event_type_count.sum()\n",
    "total_no_of_events = total_no_of_events.reset_index()\n",
    "#join on train\n",
    "dataset_train = pd.merge(dataset_train,total_no_of_events,on =['id'])\n",
    "dataset_test = pd.merge(dataset_test,total_no_of_events,on =['id'])\n",
    "\n",
    "#take numbers only.\n",
    "event_type['event_type_only'] = event_type['event_type'].map(lambda x: int(x.strip('event_type ')))\n",
    "#sort event type by id\n",
    "#event_type_sorted = event_type.sort(['id'])\n",
    "\n",
    "#drop other frames\n",
    "event_type.drop(['event_type','event_type_count'],axis=1,inplace=True)\n",
    "\n",
    "# id and related list of events\n",
    "#http://stackoverflow.com/questions/22219004/grouping-rows-in-list-in-pandas-groupby\n",
    "#**** do not directlt assign **** bz id seq. not same.\n",
    "event_id_and_list = event_type.groupby('id')['event_type_only'].apply(lambda x: x.tolist())\n",
    "event_id_and_list = event_id_and_list.reset_index()\n",
    "\n",
    "#for each column check if it is in list for that row if yes then 1 else 0\n",
    "for i in range(1,55):\n",
    "    event_id_and_list[\"e\"+str(i)] = event_id_and_list[\"event_type_only\"].apply(lambda x : 1 if i in x else 0) \n",
    "\n",
    "#drop event type only list (Uncomment below to GOOD VISUALISE IN CSV)\n",
    "event_id_and_list.drop(['event_type_only'],axis=1,inplace=True)\n",
    "\n",
    "dataset_train = pd.merge(dataset_train, event_id_and_list, on =['id'])\n",
    "dataset_test = pd.merge(dataset_test, event_id_and_list, on =['id'])\n",
    "\n",
    "#===================== log feature related ===============================\n",
    "def assignVolumesColumns(x,log_feature):\n",
    "    temp = 0\n",
    "    for i in x :\n",
    "        if i[0] == log_feature:\n",
    "            temp =  i[1]\n",
    "            break\n",
    "    return temp\n",
    "\n",
    "#working on log features\n",
    "log_feature['log_feature_only'] = log_feature['log_feature'].map(lambda x: int(x.strip('feature ')))\n",
    "log_feature['log_and_volume_all'] = zip(log_feature.log_feature_only, log_feature.volume)\n",
    "log_feature_grouped = log_feature.groupby('id')['log_and_volume_all'].apply(lambda x: x.tolist())\n",
    "log_feature_grouped = log_feature_grouped.reset_index()\n",
    "for j in range(1,387):\n",
    "    log_feature_grouped['f'+str(j)] = log_feature_grouped['log_and_volume_all'].apply(lambda k : assignVolumesColumns(k,j))\n",
    "\n",
    "#drop \n",
    "log_feature_grouped_final = log_feature_grouped.drop([\"log_and_volume_all\"],axis=1)\n",
    "#log_feature_grouped.to_csv(\"log_feature_grouped.csv\")\n",
    "dataset_train = pd.merge(dataset_train,log_feature_grouped_final,on=['id'])\n",
    "dataset_test = pd.merge(dataset_test,log_feature_grouped_final,on=['id'])\n",
    "\n",
    "#===================== resource related ===============================\n",
    "#resource type \n",
    "resource_type['resource_type_only'] = resource_type['resource_type'].map(lambda x: int(x.strip('resource_type ')))\n",
    "resource_type.drop(['resource_type'],axis=1,inplace=True)\n",
    "resource_type = resource_type.groupby('id')['resource_type_only'].apply(lambda x: x.tolist())\n",
    "resource_type = resource_type.reset_index()\n",
    "\n",
    "resource_type['resource_count'] = resource_type['resource_type_only'].apply(lambda x:len(x))\n",
    "for j in range(1,11):\n",
    "    resource_type['r'+str(j)] = resource_type[\"resource_type_only\"].apply(lambda x : 1 if j in x else 0) \n",
    "\n",
    "resource_type.to_csv(\"resource_related_all.csv\")\n",
    "resource_type.drop([\"resource_type_only\"],axis=1,inplace=True)\n",
    "\n",
    "dataset_train = pd.merge(dataset_train,resource_type,on=['id'])\n",
    "dataset_test = pd.merge(dataset_test,resource_type,on=['id'])\n",
    "\n",
    "#=========================================================================\n",
    "#dataset_train.to_csv(\"dataset_train.csv\")\n",
    "#dataset_test.to_csv(\"dataset_test.csv\")\n",
    "#=========================================================================\n",
    "\n",
    "#===================== features considered for train and test related ===============================\n",
    "features_to_be_considered = []\n",
    "'''\n",
    "severity\n",
    "'''\n",
    "severity_f = ['severity_type_only'] \n",
    "'''\n",
    "event type\n",
    "'''\n",
    "event_f = ['event_type_count'] \n",
    "for e in range(1,55):\n",
    "    event_f.append('e'+str(e))\n",
    "'''\n",
    "log feature\n",
    "'''\n",
    "log_f = []\n",
    "for l in range(1,387):\n",
    "    log_f.append('f'+str(l))\n",
    "'''\n",
    "resource\n",
    "'''\n",
    "resource_f = ['resource_count'] \n",
    "for r in range(1,11):\n",
    "    resource_f.append('r'+str(r))\n",
    "\n",
    "features_to_be_considered = severity_f + event_f + log_f + resource_f\n",
    "\n",
    "dataset_train_sel_fea = dataset_train[features_to_be_considered]\n",
    "dataset_train_index_val = dataset_train['id'].values\n",
    "dataset_train_sel_fea_val = dataset_train_sel_fea.values\n",
    "dataset_train_ans = dataset_train['fault_severity']\n",
    "dataset_train_ans_val = dataset_train_ans.values\n",
    "dataset_train_id_sevarity_Frame = dataset_train[['id','fault_severity']]\n",
    "\n",
    "dataset_test_sel_fea_val = dataset_test[features_to_be_considered].values\n",
    "dataset_test_index_val = dataset_test['id'].values\n",
    "\n",
    "#train test split\n",
    "X_train, X_test, Y_train,Y_test = train_test_split(dataset_train_sel_fea,dataset_train_ans, train_size=0.75)\n",
    "num_classes = 3 \n",
    "num_features = X_train.shape[1] \n",
    "    \n",
    "X_train = X_train.values    \n",
    "Y_train = Y_train.values\n",
    "\n",
    "X = X_train.astype(np.int32)\n",
    "y = Y_train.astype(np.int32)\n",
    "\n",
    "\n"
   ]
  },
  {
   "cell_type": "markdown",
   "metadata": {},
   "source": [
    "# First attempt"
   ]
  },
  {
   "cell_type": "code",
   "execution_count": 3,
   "metadata": {
    "collapsed": true
   },
   "outputs": [],
   "source": [
    "layers = [('input', InputLayer),\n",
    "           ('dense0', DenseLayer),\n",
    "           ('dropout0', DropoutLayer),\n",
    "           ('dense1', DenseLayer),\n",
    "           ('dropout1', DropoutLayer),\n",
    "           ('output', DenseLayer)]\n",
    "\n",
    "layers0 = [('input', InputLayer),\n",
    "('dropoutf', DropoutLayer),\n",
    "('dense0', DenseLayer),\n",
    "('dropout', DropoutLayer),\n",
    "('dense1', DenseLayer),\n",
    "('dropout2', DropoutLayer),\n",
    "('dense2', DenseLayer),\n",
    "('output', DenseLayer)]\n"
   ]
  },
  {
   "cell_type": "code",
   "execution_count": 26,
   "metadata": {
    "collapsed": false
   },
   "outputs": [
    {
     "name": "stdout",
     "output_type": "stream",
     "text": [
      "# Neural Network with 364547 learnable parameters\n",
      "\n",
      "## Layer information\n",
      "\n",
      "  #  name        size\n",
      "---  --------  ------\n",
      "  0  input        453\n",
      "  1  dense0       512\n",
      "  2  dropout0     512\n",
      "  3  dense1       256\n",
      "  4  dropout1     256\n",
      "  5  output         3\n",
      "\n",
      "  epoch    train loss    valid loss    train/val    valid acc  dur\n",
      "-------  ------------  ------------  -----------  -----------  -----\n",
      "      1       \u001b[36m2.35381\u001b[0m       \u001b[32m0.69369\u001b[0m      3.39316      0.69399  0.71s\n",
      "      2       \u001b[36m0.64583\u001b[0m       \u001b[32m0.66547\u001b[0m      0.97050      0.71400  0.71s\n",
      "      3       \u001b[36m0.59359\u001b[0m       0.67738      0.87631      0.72313  0.71s\n",
      "      4       \u001b[36m0.56047\u001b[0m       \u001b[32m0.66030\u001b[0m      0.84882      0.73483  0.71s\n",
      "      5       \u001b[36m0.53724\u001b[0m       \u001b[32m0.65985\u001b[0m      0.81418      0.73003  0.71s\n",
      "      6       \u001b[36m0.52843\u001b[0m       0.68753      0.76860      0.74000  0.70s\n",
      "      7       \u001b[36m0.50642\u001b[0m       0.70155      0.72185      0.74132  0.72s\n",
      "      8       \u001b[36m0.49755\u001b[0m       0.73036      0.68124      0.74347  0.71s\n",
      "      9       \u001b[36m0.48845\u001b[0m       0.76261      0.64050      0.74082  0.71s\n",
      "     10       \u001b[36m0.47869\u001b[0m       0.74723      0.64061      0.74521  0.72s\n",
      "     11       \u001b[36m0.46551\u001b[0m       0.78336      0.59425      0.73301  0.71s\n",
      "     12       \u001b[36m0.45789\u001b[0m       0.80226      0.57075      0.74475  0.75s\n",
      "     13       \u001b[36m0.44840\u001b[0m       0.79236      0.56590      0.75128  0.73s\n",
      "     14       \u001b[36m0.44439\u001b[0m       0.79880      0.55632      0.74607  0.78s\n",
      "     15       \u001b[36m0.43564\u001b[0m       0.82737      0.52653      0.75740  0.82s\n",
      "# Neural Network with 995403 learnable parameters\n",
      "\n",
      "## Layer information\n",
      "\n",
      "  #  name        size\n",
      "---  --------  ------\n",
      "  0  input        453\n",
      "  1  dropoutf     453\n",
      "  2  dense0       600\n",
      "  3  dropout      600\n",
      "  4  dense1       600\n",
      "  5  dropout2     600\n",
      "  6  dense2       600\n",
      "  7  output         3\n",
      "\n",
      "  epoch    train loss    valid loss    train/val    valid acc  dur\n",
      "-------  ------------  ------------  -----------  -----------  -----\n",
      "      1       \u001b[36m1.16335\u001b[0m       \u001b[32m0.64940\u001b[0m      1.79142      0.68965  2.03s\n",
      "      2       \u001b[36m0.64165\u001b[0m       \u001b[32m0.61210\u001b[0m      1.04828      0.72098  1.96s\n",
      "      3       \u001b[36m0.62153\u001b[0m       0.61630      1.00848      0.71569  1.94s\n",
      "      4       \u001b[36m0.61085\u001b[0m       \u001b[32m0.60437\u001b[0m      1.01073      0.72483  1.93s\n",
      "      5       \u001b[36m0.59609\u001b[0m       0.60467      0.98580      0.73086  1.96s\n",
      "      6       \u001b[36m0.58433\u001b[0m       \u001b[32m0.60232\u001b[0m      0.97013      0.72301  1.92s\n",
      "      7       \u001b[36m0.57622\u001b[0m       \u001b[32m0.59220\u001b[0m      0.97301      0.73562  1.98s\n",
      "      8       \u001b[36m0.56327\u001b[0m       0.59301      0.94985      0.72474  2.06s\n",
      "      9       \u001b[36m0.55930\u001b[0m       \u001b[32m0.58741\u001b[0m      0.95214      0.74479  2.00s\n",
      "     10       0.56064       0.59209      0.94689      0.74306  1.97s\n",
      "     11       \u001b[36m0.54696\u001b[0m       0.60500      0.90407      0.73127  1.99s\n",
      "     12       \u001b[36m0.53956\u001b[0m       0.59658      0.90442      0.73471  1.98s\n",
      "     13       0.54551       0.59677      0.91411      0.73694  1.98s\n",
      "     14       \u001b[36m0.53110\u001b[0m       0.59148      0.89792      0.74041  2.29s\n",
      "     15       0.53291       0.59154      0.90090      0.74260  2.10s\n",
      "     16       0.53174       0.59372      0.89561      0.74000  1.97s\n",
      "     17       \u001b[36m0.52415\u001b[0m       0.59436      0.88187      0.73652  1.97s\n",
      "     18       \u001b[36m0.52088\u001b[0m       0.60497      0.86099      0.73301  1.98s\n",
      "     19       \u001b[36m0.51291\u001b[0m       0.62055      0.82653      0.73872  2.15s\n",
      "     20       \u001b[36m0.50623\u001b[0m       0.62126      0.81484      0.73392  1.96s\n",
      "     21       0.50923       0.62111      0.81987      0.73260  1.95s\n",
      "     22       \u001b[36m0.50200\u001b[0m       0.62557      0.80247      0.73826  1.93s\n",
      "     23       0.50524       0.61897      0.81627      0.73872  1.98s\n",
      "     24       0.50456       0.63344      0.79654      0.73913  2.00s\n",
      "     25       \u001b[36m0.50187\u001b[0m       0.62929      0.79752      0.74215  1.99s\n",
      "     26       \u001b[36m0.49442\u001b[0m       0.62927      0.78570      0.74301  2.12s\n",
      "     27       \u001b[36m0.49331\u001b[0m       0.63967      0.77120      0.74260  2.09s\n",
      "     28       0.49520       0.63694      0.77747      0.73958  2.05s\n",
      "     29       \u001b[36m0.48495\u001b[0m       0.64452      0.75241      0.74306  2.07s\n",
      "     30       0.49353       0.63925      0.77204      0.73739  2.04s\n",
      "     31       \u001b[36m0.48299\u001b[0m       0.62389      0.77416      0.74566  2.05s\n",
      "     32       0.48400       0.64042      0.75575      0.74086  2.02s\n",
      "     33       0.48501       0.65742      0.73774      0.73698  2.03s\n",
      "     34       \u001b[36m0.47939\u001b[0m       0.65528      0.73157      0.74306  2.06s\n",
      "     35       \u001b[36m0.47624\u001b[0m       0.66427      0.71694      0.74479  2.09s\n",
      "     36       0.48291       0.67907      0.71114      0.73566  2.06s\n",
      "     37       \u001b[36m0.46875\u001b[0m       0.68862      0.68071      0.73826  2.05s\n",
      "     38       0.47611       0.68026      0.69989      0.74566  2.04s\n",
      "     39       0.47582       0.66996      0.71022      0.74434  2.03s\n",
      "     40       0.46951       0.68010      0.69035      0.74000  1.98s\n"
     ]
    },
    {
     "data": {
      "text/plain": [
       "NeuralNet(X_tensor_type=None,\n",
       "     batch_iterator_test=<nolearn.lasagne.base.BatchIterator object at 0x000000001F794B70>,\n",
       "     batch_iterator_train=<nolearn.lasagne.base.BatchIterator object at 0x000000001F794B00>,\n",
       "     custom_score=None, dense0_num_units=600, dense1_num_units=600,\n",
       "     dense2_num_units=600, dropout2_p=0.1, dropout_p=0.3, dropoutf_p=0.1,\n",
       "     input_shape=(None, 453),\n",
       "     layers=[('input', <class 'lasagne.layers.input.InputLayer'>), ('dropoutf', <class 'lasagne.layers.noise.DropoutLayer'>), ('dense0', <class 'lasagne.layers.dense.DenseLayer'>), ('dropout', <class 'lasagne.layers.noise.DropoutLayer'>), ('dense1', <class 'lasagne.layers.dense.DenseLayer'>), ('dropout2', <class 'lasagne.layers.noise.DropoutLayer'>), ('dense2', <class 'lasagne.layers.dense.DenseLayer'>), ('output', <class 'lasagne.layers.dense.DenseLayer'>)],\n",
       "     loss=None, max_epochs=40, more_params={},\n",
       "     objective=<function objective at 0x000000001F79BCF8>,\n",
       "     objective_loss_function=<function categorical_crossentropy at 0x000000001F61B518>,\n",
       "     on_batch_finished=[],\n",
       "     on_epoch_finished=[<nolearn.lasagne.handlers.PrintLog instance at 0x0000000047F640C8>],\n",
       "     on_training_finished=[],\n",
       "     on_training_started=[<nolearn.lasagne.handlers.PrintLayerInfo instance at 0x0000000047F64FC8>],\n",
       "     output_nonlinearity=<function softmax at 0x000000001F441AC8>,\n",
       "     output_num_units=3, regression=False,\n",
       "     train_split=<nolearn.lasagne.base.TrainSplit object at 0x000000001F794BA8>,\n",
       "     update=<function adagrad at 0x000000001F632208>,\n",
       "     update_learning_rate=0.008, use_label_encoder=False, verbose=1,\n",
       "     y_tensor_type=TensorType(int32, vector))"
      ]
     },
     "execution_count": 26,
     "metadata": {},
     "output_type": "execute_result"
    }
   ],
   "source": [
    "net1 = NeuralNet(layers=layers,\n",
    "                 input_shape=(None, num_features),\n",
    "                 dense0_num_units=512,\n",
    "                 dropout0_p=0.1,\n",
    "                 dense1_num_units=256,\n",
    "                 dropout1_p=0.1,\n",
    "                 output_num_units=num_classes,\n",
    "                 output_nonlinearity=softmax,\n",
    "                 update=adagrad,\n",
    "                 update_learning_rate=0.04,\n",
    "                 eval_size=0.2,\n",
    "                 verbose=1,\n",
    "                 max_epochs=15)\n",
    "net1.fit(X, y)\n",
    "\n",
    "\n",
    "net0 = NeuralNet(layers=layers0,\n",
    "input_shape=(None, num_features),\n",
    "dropoutf_p=0.1,\n",
    "dense0_num_units=600,\n",
    "dropout_p=0.3,\n",
    "dense1_num_units=600,\n",
    "dropout2_p=0.1,\n",
    "dense2_num_units=600,\n",
    "output_num_units=num_classes,\n",
    "output_nonlinearity=softmax,\n",
    "#update=nesterov_momentum,\n",
    "update=adagrad,\n",
    "update_learning_rate=0.008,\n",
    "eval_size=0.2,\n",
    "verbose=1,\n",
    "max_epochs=40)\n",
    "\n",
    "net0.fit(X,y)"
   ]
  },
  {
   "cell_type": "code",
   "execution_count": 15,
   "metadata": {
    "collapsed": false
   },
   "outputs": [
    {
     "data": {
      "image/png": "[encoded data removed]",
      "text/plain": [
       "<matplotlib.figure.Figure at 0x3c2be550>"
      ]
     },
     "metadata": {},
     "output_type": "display_data"
    }
   ],
   "source": [
    "from matplotlib import pyplot\n",
    "valid_loss1 = np.array([i[\"valid_loss\"] for i in net1.train_history_])\n",
    "valid_loss2 = np.array([i[\"valid_loss\"] for i in net0.train_history_])\n",
    "pyplot.legend(loc='lower left')\n",
    "pyplot.plot(valid_loss1, linewidth=3, label=\"first attempt\")\n",
    "pyplot.plot(valid_loss2, linewidth=3, label=\"winner ...\")\n",
    "    \n",
    "pyplot.grid()\n",
    "pyplot.legend()\n",
    "pyplot.xlabel(\"epoch\")\n",
    "pyplot.ylabel(\"validation loss\")\n",
    "pyplot.yscale(\"log\")\n",
    "pyplot.legend(loc='lower left')\n",
    "pyplot.show()"
   ]
  },
  {
   "cell_type": "markdown",
   "metadata": {},
   "source": [
    "##### We want to minimize loss.\n",
    "##### We can see that optimal performance is achieved around epoch = 6.\n",
    "##### After, the model is overfitting, and performance is worse.\n",
    "##### Let's add some drop out to prevent overfitting."
   ]
  },
  {
   "cell_type": "markdown",
   "metadata": {},
   "source": [
    "# Increase dropout"
   ]
  },
  {
   "cell_type": "code",
   "execution_count": 16,
   "metadata": {
    "collapsed": false
   },
   "outputs": [
    {
     "name": "stdout",
     "output_type": "stream",
     "text": [
      "# Neural Network with 364547 learnable parameters\n",
      "\n",
      "## Layer information\n",
      "\n",
      "  #  name        size\n",
      "---  --------  ------\n",
      "  0  input        453\n",
      "  1  dense0       512\n",
      "  2  dropout0     512\n",
      "  3  dense1       256\n",
      "  4  dropout1     256\n",
      "  5  output         3\n",
      "\n",
      "  epoch    train loss    valid loss    train/val    valid acc  dur\n",
      "-------  ------------  ------------  -----------  -----------  -----\n",
      "      1       \u001b[36m2.22310\u001b[0m       \u001b[32m0.74409\u001b[0m      2.98768      0.69527  0.70s\n",
      "      2       \u001b[36m0.67190\u001b[0m       \u001b[32m0.61776\u001b[0m      1.08763      0.71660  0.72s\n",
      "      3       \u001b[36m0.65179\u001b[0m       0.63321      1.02934      0.71706  0.78s\n",
      "      4       \u001b[36m0.61708\u001b[0m       0.63726      0.96834      0.71879  0.73s\n",
      "      5       \u001b[36m0.59025\u001b[0m       0.63644      0.92743      0.73264  0.74s\n",
      "      6       \u001b[36m0.57544\u001b[0m       0.62168      0.92562      0.72656  0.72s\n",
      "      7       \u001b[36m0.55355\u001b[0m       \u001b[32m0.61580\u001b[0m      0.89891      0.73524  0.71s\n",
      "      8       \u001b[36m0.52970\u001b[0m       0.62715      0.84460      0.74525  0.73s\n",
      "      9       \u001b[36m0.52507\u001b[0m       0.63761      0.82350      0.74000  0.72s\n",
      "     10       \u001b[36m0.52432\u001b[0m       0.64160      0.81721      0.74000  0.74s\n",
      "     11       \u001b[36m0.51664\u001b[0m       0.64528      0.80065      0.73785  0.75s\n",
      "     12       \u001b[36m0.50074\u001b[0m       0.65997      0.75872      0.73958  0.74s\n",
      "     13       0.50529       0.67129      0.75271      0.72693  0.78s\n",
      "     14       \u001b[36m0.49554\u001b[0m       0.66465      0.74556      0.73781  0.79s\n",
      "     15       0.49794       0.67425      0.73850      0.74479  0.82s\n"
     ]
    },
    {
     "data": {
      "text/plain": [
       "NeuralNet(X_tensor_type=None,\n",
       "     batch_iterator_test=<nolearn.lasagne.base.BatchIterator object at 0x000000001F794B70>,\n",
       "     batch_iterator_train=<nolearn.lasagne.base.BatchIterator object at 0x000000001F794B00>,\n",
       "     custom_score=None, dense0_num_units=512, dense1_num_units=256,\n",
       "     dropout0_p=0.4, dropout1_p=0.4, input_shape=(None, 453),\n",
       "     layers=[('input', <class 'lasagne.layers.input.InputLayer'>), ('dense0', <class 'lasagne.layers.dense.DenseLayer'>), ('dropout0', <class 'lasagne.layers.noise.DropoutLayer'>), ('dense1', <class 'lasagne.layers.dense.DenseLayer'>), ('dropout1', <class 'lasagne.layers.noise.DropoutLayer'>), ('output', <class 'lasagne.layers.dense.DenseLayer'>)],\n",
       "     loss=None, max_epochs=15, more_params={},\n",
       "     objective=<function objective at 0x000000001F79BCF8>,\n",
       "     objective_loss_function=<function categorical_crossentropy at 0x000000001F61B518>,\n",
       "     on_batch_finished=[],\n",
       "     on_epoch_finished=[<nolearn.lasagne.handlers.PrintLog instance at 0x000000003ACB2348>],\n",
       "     on_training_finished=[],\n",
       "     on_training_started=[<nolearn.lasagne.handlers.PrintLayerInfo instance at 0x000000003C522188>],\n",
       "     output_nonlinearity=<function softmax at 0x000000001F441AC8>,\n",
       "     output_num_units=3, regression=False,\n",
       "     train_split=<nolearn.lasagne.base.TrainSplit object at 0x000000001F794BA8>,\n",
       "     update=<function adagrad at 0x000000001F632208>,\n",
       "     update_learning_rate=0.04, use_label_encoder=False, verbose=1,\n",
       "     y_tensor_type=TensorType(int32, vector))"
      ]
     },
     "execution_count": 16,
     "metadata": {},
     "output_type": "execute_result"
    }
   ],
   "source": [
    "net2 = NeuralNet(layers=layers,\n",
    "                 input_shape=(None, num_features),\n",
    "                 dense0_num_units=512,\n",
    "                 dropout0_p=0.4,\n",
    "                 dense1_num_units=256,\n",
    "                 dropout1_p=0.4,\n",
    "                 output_num_units=num_classes,\n",
    "                 output_nonlinearity=softmax,\n",
    "                 update=adagrad,\n",
    "                 update_learning_rate=0.04,\n",
    "                 eval_size=0.2,\n",
    "                 verbose=1,\n",
    "                 max_epochs=15)\n",
    "net2.fit(X, y)"
   ]
  },
  {
   "cell_type": "code",
   "execution_count": 17,
   "metadata": {
    "collapsed": false
   },
   "outputs": [
    {
     "data": {
      "image/png": "[encoded data removed]",
      "text/plain": [
       "<matplotlib.figure.Figure at 0x3a7563c8>"
      ]
     },
     "metadata": {},
     "output_type": "display_data"
    }
   ],
   "source": [
    "valid_loss1 = np.array([i[\"valid_loss\"] for i in net1.train_history_])\n",
    "valid_loss2 = np.array([i[\"valid_loss\"] for i in net2.train_history_])\n",
    "pyplot.plot(valid_loss1, linewidth=3, label=\"first attempt\")\n",
    "pyplot.plot(valid_loss2, linewidth=3, label=\"increased dropout\")\n",
    "pyplot.grid()\n",
    "pyplot.legend()\n",
    "pyplot.xlabel(\"epoch\")\n",
    "pyplot.ylabel(\"validation loss\")\n",
    "pyplot.yscale(\"log\")\n",
    "pyplot.legend(loc='upper center', bbox_to_anchor=(0.5, -0.05),\n",
    "          fancybox=True, shadow=True, ncol=5)\n",
    "pyplot.show()"
   ]
  },
  {
   "cell_type": "markdown",
   "metadata": {},
   "source": [
    "##### That's better. No more overfitting, and we feel we can increase epoch.\n",
    "##### Let's do it, to see what loss we can reach..."
   ]
  },
  {
   "cell_type": "markdown",
   "metadata": {},
   "source": [
    "# Increase epoch"
   ]
  },
  {
   "cell_type": "code",
   "execution_count": 18,
   "metadata": {
    "collapsed": false
   },
   "outputs": [
    {
     "name": "stdout",
     "output_type": "stream",
     "text": [
      "# Neural Network with 364547 learnable parameters\n",
      "\n",
      "## Layer information\n",
      "\n",
      "  #  name        size\n",
      "---  --------  ------\n",
      "  0  input        453\n",
      "  1  dense0       512\n",
      "  2  dropout0     512\n",
      "  3  dense1       256\n",
      "  4  dropout1     256\n",
      "  5  output         3\n",
      "\n",
      "  epoch    train loss    valid loss    train/val    valid acc  dur\n",
      "-------  ------------  ------------  -----------  -----------  -----\n",
      "      1       \u001b[36m2.55182\u001b[0m       \u001b[32m0.67210\u001b[0m      3.79679      0.68870  0.74s\n",
      "      2       \u001b[36m0.65877\u001b[0m       \u001b[32m0.63954\u001b[0m      1.03006      0.71573  0.71s\n",
      "      3       \u001b[36m0.63334\u001b[0m       \u001b[32m0.63746\u001b[0m      0.99353      0.72177  0.71s\n",
      "      4       \u001b[36m0.59177\u001b[0m       \u001b[32m0.61012\u001b[0m      0.96993      0.71701  0.74s\n",
      "      5       \u001b[36m0.57570\u001b[0m       \u001b[32m0.59527\u001b[0m      0.96712      0.72962  0.77s\n",
      "      6       \u001b[36m0.56275\u001b[0m       0.61349      0.91730      0.72962  0.73s\n",
      "      7       \u001b[36m0.54875\u001b[0m       0.63948      0.85812      0.73698  0.83s\n",
      "      8       \u001b[36m0.53980\u001b[0m       0.62780      0.85982      0.73045  0.78s\n",
      "      9       \u001b[36m0.53195\u001b[0m       0.62702      0.84838      0.74132  0.77s\n",
      "     10       \u001b[36m0.52954\u001b[0m       0.61218      0.86501      0.73785  0.79s\n",
      "     11       \u001b[36m0.52505\u001b[0m       0.61092      0.85945      0.74392  0.78s\n",
      "     12       \u001b[36m0.50743\u001b[0m       0.62541      0.81136      0.74306  0.79s\n",
      "     13       \u001b[36m0.50511\u001b[0m       0.64779      0.77973      0.74260  0.80s\n",
      "     14       \u001b[36m0.49761\u001b[0m       0.66352      0.74995      0.74479  0.82s\n",
      "     15       \u001b[36m0.48572\u001b[0m       0.64873      0.74872      0.73607  0.86s\n",
      "     16       0.48617       0.65401      0.74336      0.73611  0.74s\n",
      "     17       \u001b[36m0.48371\u001b[0m       0.65178      0.74214      0.73781  0.78s\n",
      "     18       \u001b[36m0.47160\u001b[0m       0.66730      0.70673      0.73562  0.85s\n",
      "     19       0.47379       0.68067      0.69606      0.74438  0.78s\n",
      "     20       \u001b[36m0.46766\u001b[0m       0.69805      0.66995      0.74169  0.75s\n",
      "     21       \u001b[36m0.45723\u001b[0m       0.70428      0.64922      0.74091  0.77s\n",
      "     22       0.45848       0.65892      0.69581      0.74872  0.74s\n",
      "     23       0.46366       0.68527      0.67660      0.74306  0.77s\n",
      "     24       \u001b[36m0.45621\u001b[0m       0.67320      0.67767      0.74607  0.78s\n",
      "     25       \u001b[36m0.44953\u001b[0m       0.75217      0.59764      0.74955  0.76s\n",
      "     26       0.45968       0.64658      0.71094      0.75570  0.80s\n",
      "     27       \u001b[36m0.44006\u001b[0m       0.65699      0.66982      0.75045  0.85s\n",
      "     28       \u001b[36m0.43801\u001b[0m       0.67889      0.64518      0.75525  0.78s\n",
      "     29       0.44238       0.66945      0.66081      0.75045  0.81s\n",
      "     30       \u001b[36m0.43500\u001b[0m       0.69270      0.62798      0.75136  0.74s\n",
      "     31       \u001b[36m0.42965\u001b[0m       0.72485      0.59274      0.74525  0.76s\n",
      "     32       0.43521       0.72407      0.60107      0.75000  0.74s\n",
      "     33       \u001b[36m0.42601\u001b[0m       0.72194      0.59009      0.75174  0.80s\n",
      "     34       \u001b[36m0.42411\u001b[0m       0.73617      0.57610      0.74913  0.79s\n",
      "     35       \u001b[36m0.42381\u001b[0m       0.75498      0.56135      0.75744  0.83s\n",
      "     36       \u001b[36m0.42099\u001b[0m       0.77374      0.54410      0.74653  0.97s\n",
      "     37       \u001b[36m0.41508\u001b[0m       0.78790      0.52682      0.75219  0.90s\n",
      "     38       0.42748       0.78519      0.54442      0.76352  0.85s\n",
      "     39       0.41608       0.79693      0.52210      0.76091  0.80s\n",
      "     40       0.41666       0.78000      0.53419      0.75306  0.76s\n"
     ]
    },
    {
     "data": {
      "text/plain": [
       "NeuralNet(X_tensor_type=None,\n",
       "     batch_iterator_test=<nolearn.lasagne.base.BatchIterator object at 0x000000001F794B70>,\n",
       "     batch_iterator_train=<nolearn.lasagne.base.BatchIterator object at 0x000000001F794B00>,\n",
       "     custom_score=None, dense0_num_units=512, dense1_num_units=256,\n",
       "     dropout0_p=0.4, dropout1_p=0.4, input_shape=(None, 453),\n",
       "     layers=[('input', <class 'lasagne.layers.input.InputLayer'>), ('dense0', <class 'lasagne.layers.dense.DenseLayer'>), ('dropout0', <class 'lasagne.layers.noise.DropoutLayer'>), ('dense1', <class 'lasagne.layers.dense.DenseLayer'>), ('dropout1', <class 'lasagne.layers.noise.DropoutLayer'>), ('output', <class 'lasagne.layers.dense.DenseLayer'>)],\n",
       "     loss=None, max_epochs=40, more_params={},\n",
       "     objective=<function objective at 0x000000001F79BCF8>,\n",
       "     objective_loss_function=<function categorical_crossentropy at 0x000000001F61B518>,\n",
       "     on_batch_finished=[],\n",
       "     on_epoch_finished=[<nolearn.lasagne.handlers.PrintLog instance at 0x000000003C10F948>],\n",
       "     on_training_finished=[],\n",
       "     on_training_started=[<nolearn.lasagne.handlers.PrintLayerInfo instance at 0x000000003C10FD08>],\n",
       "     output_nonlinearity=<function softmax at 0x000000001F441AC8>,\n",
       "     output_num_units=3, regression=False,\n",
       "     train_split=<nolearn.lasagne.base.TrainSplit object at 0x000000001F794BA8>,\n",
       "     update=<function adagrad at 0x000000001F632208>,\n",
       "     update_learning_rate=0.04, use_label_encoder=False, verbose=1,\n",
       "     y_tensor_type=TensorType(int32, vector))"
      ]
     },
     "execution_count": 18,
     "metadata": {},
     "output_type": "execute_result"
    }
   ],
   "source": [
    "net3 = NeuralNet(layers=layers,\n",
    "                 input_shape=(None, num_features),\n",
    "                 dense0_num_units=512,\n",
    "                 dropout0_p=0.4,\n",
    "                 dense1_num_units=256,\n",
    "                 dropout1_p=0.4,\n",
    "                 output_num_units=num_classes,\n",
    "                 output_nonlinearity=softmax,\n",
    "                 update=adagrad,\n",
    "                 update_learning_rate=0.04,\n",
    "                 eval_size=0.2,\n",
    "                 verbose=1,\n",
    "                 max_epochs=40)\n",
    "net3.fit(X, y)"
   ]
  },
  {
   "cell_type": "code",
   "execution_count": 19,
   "metadata": {
    "collapsed": false
   },
   "outputs": [
    {
     "data": {
      "image/png": "[encoded data removed]",
      "text/plain": [
       "<matplotlib.figure.Figure at 0x3ae29128>"
      ]
     },
     "metadata": {},
     "output_type": "display_data"
    }
   ],
   "source": [
    "valid_loss1 = np.array([i[\"valid_loss\"] for i in net1.train_history_])\n",
    "valid_loss3 = np.array([i[\"valid_loss\"] for i in net3.train_history_])\n",
    "pyplot.plot(valid_loss1, linewidth=3, label=\"first attempt\")\n",
    "pyplot.plot(valid_loss3, linewidth=3, label=\"increased dropout & epoch\")\n",
    "pyplot.grid()\n",
    "pyplot.legend()\n",
    "pyplot.xlabel(\"epoch\")\n",
    "pyplot.ylabel(\"validation loss\")\n",
    "pyplot.legend(loc='upper center', bbox_to_anchor=(0.5, -0.05),\n",
    "          fancybox=True, shadow=True, ncol=5)\n",
    "pyplot.yscale(\"log\")\n",
    "pyplot.show()"
   ]
  },
  {
   "cell_type": "markdown",
   "metadata": {},
   "source": [
    "##### Let's see if we can improve performance further by adding neurons"
   ]
  },
  {
   "cell_type": "markdown",
   "metadata": {},
   "source": [
    "# Increase number of neurons"
   ]
  },
  {
   "cell_type": "code",
   "execution_count": 20,
   "metadata": {
    "collapsed": false
   },
   "outputs": [
    {
     "name": "stdout",
     "output_type": "stream",
     "text": [
      "# Neural Network with 2912003 learnable parameters\n",
      "\n",
      "## Layer information\n",
      "\n",
      "  #  name        size\n",
      "---  --------  ------\n",
      "  0  input        453\n",
      "  1  dense0      2000\n",
      "  2  dropout0    2000\n",
      "  3  dense1      1000\n",
      "  4  dropout1    1000\n",
      "  5  output         3\n",
      "\n",
      "  epoch    train loss    valid loss    train/val    valid acc  dur\n",
      "-------  ------------  ------------  -----------  -----------  -----\n",
      "      1      \u001b[36m12.63619\u001b[0m       \u001b[32m0.76535\u001b[0m     16.51033      0.69308  5.29s\n",
      "      2       \u001b[36m0.87301\u001b[0m       0.83646      1.04370      0.71441  5.32s\n",
      "      3       \u001b[36m0.73164\u001b[0m       0.89209      0.82014      0.72962  5.17s\n",
      "      4       \u001b[36m0.59296\u001b[0m       \u001b[32m0.71886\u001b[0m      0.82486      0.73396  5.22s\n",
      "      5       0.60857       1.30310      0.46702      0.73702  5.11s\n",
      "      6       0.64498       1.18942      0.54227      0.74525  5.36s\n",
      "      7       \u001b[36m0.58660\u001b[0m       1.12264      0.52252      0.74008  5.51s\n",
      "      8       0.59048       0.76450      0.77238      0.74525  5.58s\n",
      "      9       \u001b[36m0.52368\u001b[0m       0.75064      0.69765      0.74483  5.77s\n",
      "     10       \u001b[36m0.50190\u001b[0m       0.80141      0.62627      0.74434  5.61s\n",
      "     11       0.50833       0.75276      0.67529      0.74959  5.49s\n",
      "     12       \u001b[36m0.49989\u001b[0m       0.82530      0.60570      0.73996  5.68s\n",
      "     13       \u001b[36m0.49076\u001b[0m       0.83793      0.58569      0.74169  6.14s\n",
      "     14       \u001b[36m0.46483\u001b[0m       0.80590      0.57678      0.74392  6.17s\n",
      "     15       0.47054       0.86450      0.54429      0.74260  5.44s\n",
      "     16       \u001b[36m0.45799\u001b[0m       0.84517      0.54189      0.74128  5.31s\n",
      "     17       \u001b[36m0.44755\u001b[0m       0.87255      0.51292      0.74607  4.81s\n",
      "     18       0.45730       0.85708      0.53356      0.73826  4.77s\n",
      "     19       \u001b[36m0.44612\u001b[0m       0.89460      0.49868      0.73867  4.90s\n",
      "     20       \u001b[36m0.43714\u001b[0m       0.90716      0.48188      0.74000  5.32s\n",
      "     21       0.45402       0.94454      0.48068      0.74822  5.89s\n",
      "     22       \u001b[36m0.42838\u001b[0m       0.94187      0.45482      0.74740  5.81s\n",
      "     23       \u001b[36m0.42610\u001b[0m       0.94870      0.44914      0.74479  5.51s\n",
      "     24       \u001b[36m0.41982\u001b[0m       0.91727      0.45768      0.74913  5.07s\n",
      "     25       \u001b[36m0.41715\u001b[0m       0.93124      0.44795      0.74521  5.11s\n"
     ]
    },
    {
     "data": {
      "text/plain": [
       "NeuralNet(X_tensor_type=None,\n",
       "     batch_iterator_test=<nolearn.lasagne.base.BatchIterator object at 0x000000001F794B70>,\n",
       "     batch_iterator_train=<nolearn.lasagne.base.BatchIterator object at 0x000000001F794B00>,\n",
       "     custom_score=None, dense0_num_units=2000, dense1_num_units=1000,\n",
       "     dropout0_p=0.4, dropout1_p=0.4, input_shape=(None, 453),\n",
       "     layers=[('input', <class 'lasagne.layers.input.InputLayer'>), ('dense0', <class 'lasagne.layers.dense.DenseLayer'>), ('dropout0', <class 'lasagne.layers.noise.DropoutLayer'>), ('dense1', <class 'lasagne.layers.dense.DenseLayer'>), ('dropout1', <class 'lasagne.layers.noise.DropoutLayer'>), ('output', <class 'lasagne.layers.dense.DenseLayer'>)],\n",
       "     loss=None, max_epochs=25, more_params={},\n",
       "     objective=<function objective at 0x000000001F79BCF8>,\n",
       "     objective_loss_function=<function categorical_crossentropy at 0x000000001F61B518>,\n",
       "     on_batch_finished=[],\n",
       "     on_epoch_finished=[<nolearn.lasagne.handlers.PrintLog instance at 0x000000003D1298C8>],\n",
       "     on_training_finished=[],\n",
       "     on_training_started=[<nolearn.lasagne.handlers.PrintLayerInfo instance at 0x000000003D0C5048>],\n",
       "     output_nonlinearity=<function softmax at 0x000000001F441AC8>,\n",
       "     output_num_units=3, regression=False,\n",
       "     train_split=<nolearn.lasagne.base.TrainSplit object at 0x000000001F794BA8>,\n",
       "     update=<function adagrad at 0x000000001F632208>,\n",
       "     update_learning_rate=0.04, use_label_encoder=False, verbose=1,\n",
       "     y_tensor_type=TensorType(int32, vector))"
      ]
     },
     "execution_count": 20,
     "metadata": {},
     "output_type": "execute_result"
    }
   ],
   "source": [
    "net4 = NeuralNet(layers=layers,\n",
    "                 input_shape=(None, num_features),\n",
    "                 dense0_num_units=2000,\n",
    "                 dropout0_p=0.4,\n",
    "                 dense1_num_units=1000,\n",
    "                 dropout1_p=0.4,\n",
    "                 output_num_units=num_classes,\n",
    "                 output_nonlinearity=softmax,\n",
    "                 update=adagrad,\n",
    "                 update_learning_rate=0.04,\n",
    "                 eval_size=0.2,\n",
    "                 verbose=1,\n",
    "                 max_epochs=25)\n",
    "net4.fit(X, y)"
   ]
  },
  {
   "cell_type": "code",
   "execution_count": 21,
   "metadata": {
    "collapsed": false
   },
   "outputs": [
    {
     "data": {
      "image/png": "[encoded data removed]",
      "text/plain": [
       "<matplotlib.figure.Figure at 0x3d514e48>"
      ]
     },
     "metadata": {},
     "output_type": "display_data"
    }
   ],
   "source": [
    "valid_loss1 = np.array([i[\"valid_loss\"] for i in net1.train_history_])\n",
    "valid_loss3 = np.array([i[\"valid_loss\"] for i in net3.train_history_])\n",
    "valid_loss4 = np.array([i[\"valid_loss\"] for i in net4.train_history_])\n",
    "pyplot.plot(valid_loss1, linewidth=3, label=\"first attempt\")\n",
    "pyplot.plot(valid_loss3, linewidth=3, label=\"increased dropout & epoch\")\n",
    "pyplot.plot(valid_loss4, linewidth=3, label=\"increased neurons\")\n",
    "pyplot.grid()\n",
    "pyplot.legend()\n",
    "pyplot.xlabel(\"epoch\")\n",
    "pyplot.ylabel(\"validation loss\")\n",
    "pyplot.legend(loc='upper center', bbox_to_anchor=(0.5, -0.05),\n",
    "          fancybox=True, shadow=True, ncol=5)\n",
    "pyplot.yscale(\"log\")\n",
    "pyplot.show()"
   ]
  },
  {
   "cell_type": "markdown",
   "metadata": {},
   "source": [
    "##### That's better, but we start overfitting around epoch 12.\n",
    "##### To prevent overfitting let's now decrease the learning rate."
   ]
  },
  {
   "cell_type": "markdown",
   "metadata": {},
   "source": [
    "# Decrease learning rate"
   ]
  },
  {
   "cell_type": "code",
   "execution_count": 22,
   "metadata": {
    "collapsed": false
   },
   "outputs": [
    {
     "name": "stdout",
     "output_type": "stream",
     "text": [
      "# Neural Network with 2912003 learnable parameters\n",
      "\n",
      "## Layer information\n",
      "\n",
      "  #  name        size\n",
      "---  --------  ------\n",
      "  0  input        453\n",
      "  1  dense0      2000\n",
      "  2  dropout0    2000\n",
      "  3  dense1      1000\n",
      "  4  dropout1    1000\n",
      "  5  output         3\n",
      "\n",
      "  epoch    train loss    valid loss    train/val    valid acc  dur\n",
      "-------  ------------  ------------  -----------  -----------  -----\n",
      "      1       \u001b[36m1.18451\u001b[0m       \u001b[32m0.64429\u001b[0m      1.83847      0.69312  5.79s\n",
      "      2       \u001b[36m0.68344\u001b[0m       0.64920      1.05274      0.70403  5.70s\n",
      "      3       \u001b[36m0.63203\u001b[0m       \u001b[32m0.63807\u001b[0m      0.99054      0.72309  5.56s\n",
      "      4       \u001b[36m0.60301\u001b[0m       \u001b[32m0.62689\u001b[0m      0.96191      0.71743  5.79s\n",
      "      5       \u001b[36m0.59081\u001b[0m       0.63221      0.93450      0.73181  7.03s\n",
      "      6       \u001b[36m0.58507\u001b[0m       \u001b[32m0.61965\u001b[0m      0.94418      0.73268  6.65s\n",
      "      7       \u001b[36m0.57406\u001b[0m       0.64089      0.89573      0.73181  5.66s\n",
      "      8       \u001b[36m0.56141\u001b[0m       0.63663      0.88185      0.73483  5.61s\n",
      "      9       \u001b[36m0.54283\u001b[0m       \u001b[32m0.61182\u001b[0m      0.88724      0.72962  5.52s\n",
      "     10       0.54843       0.66444      0.82541      0.72524  5.37s\n",
      "     11       \u001b[36m0.53903\u001b[0m       0.69082      0.78027      0.73090  5.37s\n",
      "     12       \u001b[36m0.52305\u001b[0m       0.68210      0.76683      0.73090  5.72s\n",
      "     13       0.52788       0.66929      0.78872      0.72607  6.27s\n",
      "     14       0.54125       0.68790      0.78681      0.73872  5.43s\n",
      "     15       \u001b[36m0.52289\u001b[0m       0.66093      0.79115      0.72739  5.43s\n",
      "     16       \u001b[36m0.52023\u001b[0m       0.66338      0.78420      0.74045  5.10s\n",
      "     17       \u001b[36m0.51347\u001b[0m       0.68922      0.74500      0.72954  5.16s\n",
      "     18       \u001b[36m0.50349\u001b[0m       0.67009      0.75138      0.73305  5.39s\n",
      "     19       0.50373       0.66996      0.75188      0.72999  5.60s\n",
      "     20       \u001b[36m0.49330\u001b[0m       0.67430      0.73158      0.73260  5.39s\n",
      "     21       \u001b[36m0.49004\u001b[0m       0.69147      0.70869      0.73086  5.29s\n",
      "     22       0.49646       0.67522      0.73526      0.73260  5.56s\n",
      "     23       \u001b[36m0.48628\u001b[0m       0.67398      0.72150      0.73433  4.97s\n",
      "     24       \u001b[36m0.47771\u001b[0m       0.67944      0.70310      0.73520  5.37s\n",
      "     25       0.48800       0.67985      0.71781      0.73520  5.53s\n",
      "     26       \u001b[36m0.47347\u001b[0m       0.67688      0.69950      0.73520  4.98s\n",
      "     27       0.47833       0.68128      0.70209      0.73739  4.86s\n",
      "     28       \u001b[36m0.47037\u001b[0m       0.66658      0.70565      0.73392  4.85s\n",
      "     29       0.47608       0.66990      0.71068      0.73479  5.30s\n",
      "     30       \u001b[36m0.47015\u001b[0m       0.66856      0.70323      0.74173  5.13s\n",
      "     31       \u001b[36m0.46462\u001b[0m       0.67424      0.68911      0.74173  4.78s\n",
      "     32       0.47029       0.69243      0.67918      0.73566  4.78s\n",
      "     33       0.46653       0.70788      0.65905      0.74045  4.75s\n",
      "     34       \u001b[36m0.45722\u001b[0m       0.68381      0.66864      0.73958  4.77s\n",
      "     35       \u001b[36m0.44703\u001b[0m       0.71826      0.62238      0.74392  4.86s\n",
      "     36       0.45120       0.72047      0.62626      0.74392  5.74s\n",
      "     37       0.44954       0.74331      0.60478      0.74913  7.19s\n",
      "     38       0.45248       0.72933      0.62041      0.74826  7.70s\n",
      "     39       0.45151       0.73314      0.61586      0.74306  7.90s\n",
      "     40       \u001b[36m0.44165\u001b[0m       0.73755      0.59881      0.74479  5.23s\n"
     ]
    },
    {
     "data": {
      "text/plain": [
       "NeuralNet(X_tensor_type=None,\n",
       "     batch_iterator_test=<nolearn.lasagne.base.BatchIterator object at 0x000000001F794B70>,\n",
       "     batch_iterator_train=<nolearn.lasagne.base.BatchIterator object at 0x000000001F794B00>,\n",
       "     custom_score=None, dense0_num_units=2000, dense1_num_units=1000,\n",
       "     dropout0_p=0.4, dropout1_p=0.4, input_shape=(None, 453),\n",
       "     layers=[('input', <class 'lasagne.layers.input.InputLayer'>), ('dense0', <class 'lasagne.layers.dense.DenseLayer'>), ('dropout0', <class 'lasagne.layers.noise.DropoutLayer'>), ('dense1', <class 'lasagne.layers.dense.DenseLayer'>), ('dropout1', <class 'lasagne.layers.noise.DropoutLayer'>), ('output', <class 'lasagne.layers.dense.DenseLayer'>)],\n",
       "     loss=None, max_epochs=40, more_params={},\n",
       "     objective=<function objective at 0x000000001F79BCF8>,\n",
       "     objective_loss_function=<function categorical_crossentropy at 0x000000001F61B518>,\n",
       "     on_batch_finished=[],\n",
       "     on_epoch_finished=[<nolearn.lasagne.handlers.PrintLog instance at 0x000000003AA1E808>],\n",
       "     on_training_finished=[],\n",
       "     on_training_started=[<nolearn.lasagne.handlers.PrintLayerInfo instance at 0x000000003D9D7748>],\n",
       "     output_nonlinearity=<function softmax at 0x000000001F441AC8>,\n",
       "     output_num_units=3, regression=False,\n",
       "     train_split=<nolearn.lasagne.base.TrainSplit object at 0x000000001F794BA8>,\n",
       "     update=<function adagrad at 0x000000001F632208>,\n",
       "     update_learning_rate=0.004, use_label_encoder=False, verbose=1,\n",
       "     y_tensor_type=TensorType(int32, vector))"
      ]
     },
     "execution_count": 22,
     "metadata": {},
     "output_type": "execute_result"
    }
   ],
   "source": [
    "net5 = NeuralNet(layers=layers,\n",
    "                 input_shape=(None, num_features),\n",
    "                 dense0_num_units=2000,\n",
    "                 dropout0_p=0.4,\n",
    "                 dense1_num_units=1000,\n",
    "                 dropout1_p=0.4,\n",
    "                 output_num_units=num_classes,\n",
    "                 output_nonlinearity=softmax,\n",
    "                 update=adagrad,\n",
    "                 update_learning_rate=0.004,\n",
    "                 eval_size=0.2,\n",
    "                 verbose=1,\n",
    "                 max_epochs=40)\n",
    "net5.fit(X, y)"
   ]
  },
  {
   "cell_type": "code",
   "execution_count": 27,
   "metadata": {
    "collapsed": false
   },
   "outputs": [
    {
     "data": {
      "image/png": "[encoded data removed]",
      "text/plain": [
       "<matplotlib.figure.Figure at 0x3a531278>"
      ]
     },
     "metadata": {},
     "output_type": "display_data"
    }
   ],
   "source": [
    "valid_loss0 = np.array([i[\"valid_loss\"] for i in net0.train_history_])\n",
    "valid_loss1 = np.array([i[\"valid_loss\"] for i in net1.train_history_])\n",
    "valid_loss3 = np.array([i[\"valid_loss\"] for i in net3.train_history_])\n",
    "valid_loss4 = np.array([i[\"valid_loss\"] for i in net4.train_history_])\n",
    "valid_loss5 = np.array([i[\"valid_loss\"] for i in net5.train_history_])\n",
    "pyplot.plot(valid_loss0, linewidth=3, label=\"winner ...\")\n",
    "pyplot.plot(valid_loss1, linewidth=3, label=\"first attempt\")\n",
    "pyplot.plot(valid_loss3, linewidth=3, label=\"increased dropout & epoch\")\n",
    "pyplot.plot(valid_loss4, linewidth=3, label=\"increased neurons\")\n",
    "pyplot.plot(valid_loss5, linewidth=3, label=\"decreased learning rate\")\n",
    "pyplot.grid()\n",
    "pyplot.legend(loc='upper center', bbox_to_anchor=(0.5, -0.05),\n",
    "          fancybox=True, shadow=True, ncol=5)\n",
    "pyplot.xlabel(\"epoch\")\n",
    "pyplot.ylabel(\"validation loss\")\n",
    "pyplot.legend(loc='upper center', bbox_to_anchor=(0.5, -0.05),\n",
    "          fancybox=True, shadow=True, ncol=5)\n",
    "pyplot.yscale(\"log\")\n",
    "pyplot.show()"
   ]
  },
  {
   "cell_type": "markdown",
   "metadata": {},
   "source": [
    "##### We now have a good balance between number of neurons, dropout and learning rate\n",
    "##### Note that other parameters could have been tuned : number of layers, activation function ...."
   ]
  }
 ],
 "metadata": {
  "kernelspec": {
   "display_name": "Python 2",
   "language": "python",
   "name": "python2"
  },
  "language_info": {
   "codemirror_mode": {
    "name": "ipython",
    "version": 2
   },
   "file_extension": ".py",
   "mimetype": "text/x-python",
   "name": "python",
   "nbconvert_exporter": "python",
   "pygments_lexer": "ipython2",
   "version": "2.7.11"
  }
 },
 "nbformat": 4,
 "nbformat_minor": 0
}
